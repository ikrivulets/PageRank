{
 "cells": [
  {
   "cell_type": "markdown",
   "metadata": {},
   "source": [
    "## Описание спайдера\n",
    "\n",
    "Был создан спайдер, собирающий страницы с вики ([код спайдера](https://github.com/ikrivulets/PageRank/tree/master/wiki_spider)).\n",
    "Он ничинал с двух стартовых страниц: \n",
    "~~~~ python\n",
    "start_urls = ['https://en.wikipedia.org/wiki/Los_Angeles',\n",
    "              'https://en.wikipedia.org/wiki/Information_retrieval']\n",
    "~~~~\n",
    "\n",
    "Настройки спайдера:\n",
    "\n",
    "~~~~ python\n",
    "# кол-во параллельно обрабатываемых запросов\n",
    "CONCURRENT_REQUESTS = 32\n",
    "# задержка перед запросом\n",
    "DOWNLOAD_DELAY = 0.1\n",
    "# условие остановки, количество айтемов\n",
    "CLOSESPIDER_ITEMCOUNT = 10000\n",
    "~~~~\n",
    "\n",
    "Айтемы записывались в json lines (.jl) файл в след формате:\n",
    "\n",
    "~~~~ json\n",
    "{\n",
    "    \"id\": \"...\",\n",
    "    \"url\": \"...\",\n",
    "    \"snippet\": \"...\",\n",
    "    \"links\": [\"...\", \"...\"],\n",
    "}\n",
    "~~~~\n",
    "\n",
    "Он проработал около 4.5 часов и собрал **100034** айтема. Для это использовалась плтформа [scrapinghub](http://scrapinghub.com \"scrapinghub\")\n",
    "Но он собрал айтемы не только английско википедии. Для начала посмотрим только английскую часть ([en.wikipedia.org](en.wikipedia.org)). А в конце сравним с общими результатами.  \n",
    "Английских статей - **42092**"
   ]
  },
  {
   "cell_type": "markdown",
   "metadata": {},
   "source": [
    "## Парсим файл и создаем граф:"
   ]
  },
  {
   "cell_type": "code",
   "execution_count": 1,
   "metadata": {
    "collapsed": true
   },
   "outputs": [],
   "source": [
    "import json\n",
    "import networkx as nx\n",
    "\n",
    "items_file = 'items_full.jl'\n",
    "item_ids = {}\n",
    "item_ids_inv = {}\n",
    "item_relations = {}\n",
    "\n",
    "def is_english_wiki(url):\n",
    "    return 'en.wiki' in url\n",
    "\n",
    "with open(items_file) as item_json:\n",
    "    for line in item_json:\n",
    "        item = json.loads(line)\n",
    "        if is_english_wiki(item['url']):\n",
    "            item_ids[item['url']] = item['id']\n",
    "            item_ids_inv[item['id']] = item['url']\n",
    "\n",
    "with open(items_file) as item_json:\n",
    "    for line in item_json:\n",
    "        item = json.loads(line)\n",
    "        if is_english_wiki(item['url']):\n",
    "            item_relations[item['id']] = [item_ids[url] for url in item['links'] if url in item_ids]\n",
    "\n",
    "graph = nx.DiGraph()\n",
    "graph.add_nodes_from(item_relations)\n",
    "for from_id in item_relations:\n",
    "    graph.add_edges_from([(from_id, to_id) for to_id in item_relations[from_id]])"
   ]
  },
  {
   "cell_type": "markdown",
   "metadata": {},
   "source": [
    "### Взглянем, на распределение степеней вершин графа:"
   ]
  },
  {
   "cell_type": "code",
   "execution_count": 5,
   "metadata": {
    "collapsed": false
   },
   "outputs": [
    {
     "data": {
      "text/plain": [
       "42092"
      ]
     },
     "execution_count": 5,
     "metadata": {},
     "output_type": "execute_result"
    }
   ],
   "source": [
    "degrees = list(graph.degree(graph.nodes()).values())\n",
    "len(degrees)"
   ]
  },
  {
   "cell_type": "code",
   "execution_count": 30,
   "metadata": {
    "collapsed": false
   },
   "outputs": [
    {
     "data": {
      "text/plain": [
       "[(0, 191),\n",
       " (1, 4135),\n",
       " (2, 7631),\n",
       " (3, 8915),\n",
       " (4, 7522),\n",
       " (5, 5173),\n",
       " (6, 3329),\n",
       " (7, 1948),\n",
       " (8, 1142),\n",
       " (9, 657),\n",
       " (10, 345),\n",
       " (11, 224),\n",
       " (12, 179),\n",
       " (13, 124),\n",
       " (14, 80),\n",
       " (15, 60),\n",
       " (16, 41),\n",
       " (17, 44),\n",
       " (18, 34),\n",
       " (19, 25),\n",
       " (20, 18),\n",
       " (21, 24),\n",
       " (22, 20),\n",
       " (23, 14),\n",
       " (24, 18),\n",
       " (25, 14),\n",
       " (26, 10),\n",
       " (27, 10),\n",
       " (28, 8),\n",
       " (29, 14),\n",
       " (30, 5),\n",
       " (31, 6),\n",
       " (32, 5),\n",
       " (33, 8),\n",
       " (34, 6),\n",
       " (35, 7),\n",
       " (36, 3),\n",
       " (37, 1),\n",
       " (38, 7),\n",
       " (39, 6)]"
      ]
     },
     "execution_count": 30,
     "metadata": {},
     "output_type": "execute_result"
    }
   ],
   "source": [
    "import matplotlib.pyplot as plt\n",
    "%matplotlib inline\n",
    "\n",
    "degrees = sorted(degrees)\n",
    "from itertools import groupby\n",
    "groups = [(key, len(list(group))) for key, group in groupby(degrees)]\n",
    "# x = [el[0] for el in groups]\n",
    "# y = [el[1] for el in groups]\n",
    "# plt.plot(x, y)\n",
    "groups[:40]"
   ]
  },
  {
   "cell_type": "markdown",
   "metadata": {},
   "source": [
    "### Не думаю, что график может изобразить распределение степеней вершин понятнее, чем этот список, где видим, что вершин, со степенью до 10 очень много, тогда как с большими степенями их число потом резко убывает. "
   ]
  },
  {
   "cell_type": "markdown",
   "metadata": {
    "collapsed": true
   },
   "source": [
    "### Реалиация алгоритма PageRank. Основная идея в том, что сначала инициализируется одинаковые веса для всех узлов, а затем итеративно с заданным весом alpha обновляем узлы графа по формуле $Rank(x) = \\frac{1-\\lambda}{N} + \\lambda \\sum\\limits_{y->x} \\frac{Rank(y)}{out(y)}$, где y - вершины, которые имеют входящие в x дуги, а out(y) - количества выходящих из y дуг:"
   ]
  },
  {
   "cell_type": "code",
   "execution_count": 34,
   "metadata": {
    "collapsed": false
   },
   "outputs": [
    {
     "data": {
      "text/plain": [
       "<__main__.PageRank instance at 0x7f123b84af38>"
      ]
     },
     "execution_count": 34,
     "metadata": {},
     "output_type": "execute_result"
    }
   ],
   "source": [
    "class PageRank:\n",
    "    def __init__(self, graph, alpha=0.85):\n",
    "        self.graph = graph\n",
    "        self.V = len(self.graph)\n",
    "        self.d = alpha\n",
    "        self.ranks = dict()\n",
    "    \n",
    "    def rank(self):\n",
    "        for key in self.graph.nodes():\n",
    "            self.ranks[key] = 1 / float(self.V)\n",
    "\n",
    "        for _ in range(10):\n",
    "            for key, node in self.graph.nodes(data=True):\n",
    "                rank_sum = 0\n",
    "                neighbors = self.graph.in_edges(key)\n",
    "                for n in neighbors:\n",
    "                    outlinks = len(self.graph.out_edges(n[0]))\n",
    "                    if outlinks > 0:\n",
    "                        rank_sum += (1 / float(outlinks)) * self.ranks[n[0]]\n",
    "                # actual page rank compution\n",
    "                self.ranks[key] = ((1 - float(self.d)) * (1/float(self.V))) + self.d*rank_sum\n",
    "\n",
    "        return self\n",
    "p = PageRank(graph)\n",
    "p.rank()"
   ]
  },
  {
   "cell_type": "markdown",
   "metadata": {},
   "source": [
    "### Получили топ10 английских статей с наибольшим ранком:"
   ]
  },
  {
   "cell_type": "code",
   "execution_count": 35,
   "metadata": {
    "collapsed": false
   },
   "outputs": [
    {
     "data": {
      "text/plain": [
       "[u'https://en.wikipedia.org/wiki/World_War_II',\n",
       " u'https://en.wikipedia.org/wiki/Pacific_Ocean',\n",
       " u'https://en.wikipedia.org/wiki/London',\n",
       " u'https://en.wikipedia.org/wiki/Bolshevik',\n",
       " u'https://en.wikipedia.org/wiki/Barack_Obama',\n",
       " u'https://en.wikipedia.org/wiki/Spanish_language',\n",
       " u'https://en.wikipedia.org/wiki/Pinko',\n",
       " u'https://en.wikipedia.org/wiki/Cantar_de_mio_Cid',\n",
       " u'https://en.wikipedia.org/wiki/Portugal',\n",
       " u'https://en.wikipedia.org/wiki/Monsanto']"
      ]
     },
     "execution_count": 35,
     "metadata": {},
     "output_type": "execute_result"
    }
   ],
   "source": [
    "import operator\n",
    "sorted_r = sorted(p.ranks.iteritems(), key=operator.itemgetter(1), reverse=True)\n",
    "[item_ids_inv[tup[0]] for tup in sorted_r][:10]"
   ]
  },
  {
   "cell_type": "markdown",
   "metadata": {},
   "source": [
    "## Pagerank с дефолтным значением alpha(реализация networkx для сравнения)"
   ]
  },
  {
   "cell_type": "code",
   "execution_count": 33,
   "metadata": {
    "collapsed": false
   },
   "outputs": [
    {
     "name": "stdout",
     "output_type": "stream",
     "text": [
      "https://en.wikipedia.org/wiki/World_War_II\n",
      "Pagerank:  0.0147880292089\n",
      "World War II (often abbreviated to WWII or WW2), also known as the Second World War, was a global war that lasted from 1939 to 1945, although related conflicts began earlier. It involved the vast majority of the world's countries—including all of the grea...\n",
      "\n",
      "https://en.wikipedia.org/wiki/Pacific_Ocean\n",
      "Pagerank:  0.0116592539118\n",
      "The Pacific Ocean is the largest and deepest of the Earth's oceanic divisions. It extends from the Arctic Ocean in the north to the Southern Ocean (or, depending on definition, to Antarctica) in the south and is bounded by Asia and Australia in the west a...\n",
      "\n",
      "https://en.wikipedia.org/wiki/London\n",
      "Pagerank:  0.00700272726047\n",
      "London i/ˈlʌndən/ is the capital and most populous city of England and the United Kingdom.[7][8] Standing on the River Thames in the south east of the island of Great Britain, London has been a major settlement for two millennia. It was founded by the Rom...\n",
      "\n",
      "https://en.wikipedia.org/wiki/Barack_Obama\n",
      "Pagerank:  0.00670973921073\n",
      "Barack Hussein Obama II (US i/bəˈrɑːk huːˈseɪn oʊˈbɑːmə/ bə-RAHK hoo-SAYN oh-BAH-mə;[1][2] born August 4, 1961) is an American politician who served as the 44th President of the United States from 2009 to 2017. He is the first African American to have ser...\n",
      "\n",
      "https://en.wikipedia.org/wiki/Bolshevik\n",
      "Pagerank:  0.00654444578911\n",
      "The Bolsheviks, originally also Bolshevists[1][a] or Bolsheviki[3] (Russian: большевики, большевик (singular); IPA: [bəlʲʂɨˈvʲik]; derived from большинство bol'shinstvo, \"majority\", literally meaning \"one of the majority\") were a faction of the Marxist Ru...\n",
      "\n",
      "https://en.wikipedia.org/wiki/Spanish_language\n",
      "Pagerank:  0.00586345195136\n",
      "Spanish (i/ˈspænᵻʃ/,  español (help·info))—also called Castilian[4] (i/kæˈstɪliən/,  castellano (help·info))—is a Romance language that originated in the Castile region of Spain, with hundreds of millions of native speakers around the world. It is usually...\n",
      "\n",
      "https://en.wikipedia.org/wiki/Pinko\n",
      "Pagerank:  0.00569950056455\n",
      "Pinko is a slang term coined in 1925 in the United States to describe a person regarded as being sympathetic to communism, though not necessarily a Communist Party member. It has since come to be used, derogatorily, to describe anyone perceived to have le...\n",
      "\n",
      "https://en.wikipedia.org/wiki/Cantar_de_mio_Cid\n",
      "Pagerank:  0.00496555490697\n",
      "El Cantar de mio Cid, literally \"The Song of my Cid\" (or El Poema de mio Cid), also known in English as The Poem of the Cid, is the oldest preserved Castilian epic poem (epopeya).[1] Based on a true story, it tells of the Castilian hero El Cid, and takes ...\n",
      "\n",
      "https://en.wikipedia.org/wiki/Portugal\n",
      "Pagerank:  0.00450004638012\n",
      "Portugal (Portuguese: [puɾtuˈɣaɫ]), officially the Portuguese Republic (Portuguese: República Portuguesa) (Portuguese: [ʁɨ'publikɐ puɾtu'ɣezɐ])[note 1] is a sovereign state located on the Iberian Peninsula in southwestern Europe. It is the westernmost cou...\n",
      "\n",
      "https://en.wikipedia.org/wiki/Scribal_abbreviation\n",
      "Pagerank:  0.00408225081351\n",
      "Scribal abbreviations or sigla (singular: siglum or sigil) are the abbreviations used by ancient and medieval scribes writing in Latin, and later in Greek and Old Norse. Modern manuscript editing (substantive and mechanical) employs sigla as symbols indic...\n",
      "\n"
     ]
    }
   ],
   "source": [
    "def print_top_info(top10, pagerank, show_snippet=False):\n",
    "    top10urls = {}\n",
    "    with open(items_file) as item_json:\n",
    "        for i, line in enumerate(item_json):\n",
    "            if i in top10:\n",
    "                item = json.loads(line)\n",
    "                top10urls[i] = item\n",
    "    for i in top10:\n",
    "        print top10urls[i]['url']\n",
    "        print 'Pagerank: ', pagerank[i]\n",
    "        if show_snippet:\n",
    "            print top10urls[i]['snippet']\n",
    "        print\n",
    "\n",
    "pagerank = nx.pagerank(graph)\n",
    "top10 = sorted(pagerank, key=lambda k: pagerank[k], reverse=True)[:10]\n",
    "print_top_info(top10, pagerank, True)"
   ]
  },
  {
   "cell_type": "markdown",
   "metadata": {},
   "source": [
    "\n",
    "**Дальше будем выводить без сниппета, потому что он занимает много места.  \n",
    "Приведем ниже топ с другими значениями alpha:**\n",
    "### Как видим, результаты почти те же, за исключением перестановок\n",
    "## alpha = 0.3"
   ]
  },
  {
   "cell_type": "code",
   "execution_count": 38,
   "metadata": {
    "collapsed": false
   },
   "outputs": [
    {
     "data": {
      "text/plain": [
       "[u'https://en.wikipedia.org/wiki/World_War_II',\n",
       " u'https://en.wikipedia.org/wiki/London',\n",
       " u'https://en.wikipedia.org/wiki/Pacific_Ocean',\n",
       " u'https://en.wikipedia.org/wiki/Los_Angeles',\n",
       " u'https://en.wikipedia.org/wiki/Spanish_language',\n",
       " u'https://en.wikipedia.org/wiki/Bolshevik',\n",
       " u'https://en.wikipedia.org/wiki/Portugal',\n",
       " u'https://en.wikipedia.org/wiki/Barack_Obama',\n",
       " u'https://en.wikipedia.org/wiki/Roman_Catholic',\n",
       " u'https://en.wikipedia.org/wiki/South_America']"
      ]
     },
     "execution_count": 38,
     "metadata": {},
     "output_type": "execute_result"
    }
   ],
   "source": [
    "p = PageRank(graph, alpha=0.3)\n",
    "p.rank()\n",
    "sorted_r = sorted(p.ranks.iteritems(), key=operator.itemgetter(1), reverse=True)\n",
    "[item_ids_inv[tup[0]] for tup in sorted_r][:10]"
   ]
  },
  {
   "cell_type": "code",
   "execution_count": 36,
   "metadata": {
    "collapsed": false
   },
   "outputs": [
    {
     "name": "stdout",
     "output_type": "stream",
     "text": [
      "https://en.wikipedia.org/wiki/World_War_II\n",
      "Pagerank:  0.00558947774906\n",
      "\n",
      "https://en.wikipedia.org/wiki/London\n",
      "Pagerank:  0.0026815674597\n",
      "\n",
      "https://en.wikipedia.org/wiki/Los_Angeles\n",
      "Pagerank:  0.00130647888071\n",
      "\n",
      "https://en.wikipedia.org/wiki/Pacific_Ocean\n",
      "Pagerank:  0.00130075019907\n",
      "\n",
      "https://en.wikipedia.org/wiki/Spanish_language\n",
      "Pagerank:  0.00116745750868\n",
      "\n",
      "https://en.wikipedia.org/wiki/Bolshevik\n",
      "Pagerank:  0.00090263100118\n",
      "\n",
      "https://en.wikipedia.org/wiki/Portugal\n",
      "Pagerank:  0.000845448870245\n",
      "\n",
      "https://en.wikipedia.org/wiki/Barack_Obama\n",
      "Pagerank:  0.000751013302733\n",
      "\n",
      "https://en.wikipedia.org/wiki/Roman_Catholic\n",
      "Pagerank:  0.000669814271271\n",
      "\n",
      "https://en.wikipedia.org/wiki/South_America\n",
      "Pagerank:  0.000409215329487\n",
      "\n"
     ]
    }
   ],
   "source": [
    "pagerank = nx.pagerank(graph, 0.3)\n",
    "top10 = sorted(pagerank, key=lambda k: pagerank[k], reverse=True)[:10]\n",
    "print_top_info(top10, pagerank)"
   ]
  },
  {
   "cell_type": "markdown",
   "metadata": {},
   "source": [
    "### Снова почти идентичны"
   ]
  },
  {
   "cell_type": "markdown",
   "metadata": {},
   "source": [
    "Как мы видим,на первом месте всегда https://en.wikipedia.org/wiki/World_War_II.  \n",
    "Дальше места меняются в зависимости от alpha. Сам список топ10 - меняется не сильно (+-1 элемент).\n",
    "\n",
    "Теперь посмотрим результат для все ссылок вместо, когда их 100034:"
   ]
  },
  {
   "cell_type": "code",
   "execution_count": 41,
   "metadata": {
    "collapsed": true
   },
   "outputs": [],
   "source": [
    "items_file = 'items_full.jl'\n",
    "item_ids_full = {}\n",
    "item_ids_inv = {}\n",
    "item_relations_full = {}\n",
    "\n",
    "\n",
    "with open(items_file) as item_json:\n",
    "    for line in item_json:\n",
    "        item = json.loads(line)\n",
    "        item_ids_full[item['url']] = item['id']\n",
    "        item_ids_inv[item['id']] = item['url']\n",
    "        \n",
    "\n",
    "with open(items_file) as item_json:\n",
    "    for line in item_json:\n",
    "        item = json.loads(line)\n",
    "        item_relations_full[item['id']] = [item_ids_full[url] for url in item['links'] if url in item_ids_full]\n",
    "\n",
    "graph_full = nx.DiGraph()\n",
    "graph_full.add_nodes_from(item_relations_full)\n",
    "for from_id in item_relations_full:\n",
    "    graph_full.add_edges_from([(from_id, to_id) for to_id in item_relations_full[from_id]])"
   ]
  },
  {
   "cell_type": "markdown",
   "metadata": {},
   "source": [
    "## alphа - 0.85"
   ]
  },
  {
   "cell_type": "markdown",
   "metadata": {},
   "source": [
    "### Топ моей реализации(в топ попадают русские статьи про немецкий язык и Германию):"
   ]
  },
  {
   "cell_type": "code",
   "execution_count": 42,
   "metadata": {
    "collapsed": false
   },
   "outputs": [
    {
     "data": {
      "text/plain": [
       "[u'https://en.wikipedia.org/wiki/World_War_II',\n",
       " u'https://en.wikipedia.org/wiki/Pacific_Ocean',\n",
       " u'https://ru.wikipedia.org/wiki/%D0%9D%D0%B5%D0%BC%D0%B5%D1%86%D0%BA%D0%B8%D0%B9_%D1%8F%D0%B7%D1%8B%D0%BA',\n",
       " u'https://ru.wikipedia.org/wiki/%D0%93%D0%B5%D1%80%D0%BC%D0%B0%D0%BD%D0%B8%D1%8F',\n",
       " u'https://en.wikipedia.org/wiki/London',\n",
       " u'https://en.wikipedia.org/wiki/Bolshevik',\n",
       " u'https://en.wikipedia.org/wiki/Barack_Obama',\n",
       " u'https://en.wikipedia.org/wiki/Spanish_language',\n",
       " u'https://en.wikipedia.org/wiki/Pinko',\n",
       " u'https://it.wikipedia.org/wiki/1929']"
      ]
     },
     "execution_count": 42,
     "metadata": {},
     "output_type": "execute_result"
    }
   ],
   "source": [
    "p = PageRank(graph_full)\n",
    "p.rank()\n",
    "sorted_r = sorted(p.ranks.iteritems(), key=operator.itemgetter(1), reverse=True)\n",
    "[item_ids_inv[tup[0]] for tup in sorted_r][:10]"
   ]
  },
  {
   "cell_type": "markdown",
   "metadata": {},
   "source": [
    "### Топ NetworkX PageRank"
   ]
  },
  {
   "cell_type": "code",
   "execution_count": 196,
   "metadata": {
    "collapsed": false
   },
   "outputs": [
    {
     "name": "stdout",
     "output_type": "stream",
     "text": [
      "https://en.wikipedia.org/wiki/World_War_II\n",
      "Pagerank:  0.00654265735122\n",
      "World War II (often abbreviated to WWII or WW2), also known as the Second World War, was a global war that lasted from 1939 to 1945, although related conflicts began earlier. It involved the vast majority of the world's countries—including all of the grea...\n",
      "\n",
      "https://en.wikipedia.org/wiki/Pacific_Ocean\n",
      "Pagerank:  0.00448297229308\n",
      "The Pacific Ocean is the largest and deepest of the Earth's oceanic divisions. It extends from the Arctic Ocean in the north to the Southern Ocean (or, depending on definition, to Antarctica) in the south and is bounded by Asia and Australia in the west a...\n",
      "\n",
      "https://en.wikipedia.org/wiki/London\n",
      "Pagerank:  0.00309974345443\n",
      "London i/ˈlʌndən/ is the capital and most populous city of England and the United Kingdom.[7][8] Standing on the River Thames in the south east of the island of Great Britain, London has been a major settlement for two millennia. It was founded by the Rom...\n",
      "\n",
      "https://en.wikipedia.org/wiki/Bolshevik\n",
      "Pagerank:  0.00297036250961\n",
      "The Bolsheviks, originally also Bolshevists[1][a] or Bolsheviki[3] (Russian: большевики, большевик (singular); IPA: [bəlʲʂɨˈvʲik]; derived from большинство bol'shinstvo, \"majority\", literally meaning \"one of the majority\") were a faction of the Marxist Ru...\n",
      "\n",
      "https://en.wikipedia.org/wiki/Barack_Obama\n",
      "Pagerank:  0.00279542454996\n",
      "Barack Hussein Obama II (US i/bəˈrɑːk huːˈseɪn oʊˈbɑːmə/ bə-RAHK hoo-SAYN oh-BAH-mə;[1][2] born August 4, 1961) is an American politician who served as the 44th President of the United States from 2009 to 2017. He is the first African American to have ser...\n",
      "\n",
      "https://en.wikipedia.org/wiki/Pinko\n",
      "Pagerank:  0.00264677650011\n",
      "Pinko is a slang term coined in 1925 in the United States to describe a person regarded as being sympathetic to communism, though not necessarily a Communist Party member. It has since come to be used, derogatorily, to describe anyone perceived to have le...\n",
      "\n",
      "https://en.wikipedia.org/wiki/Spanish_language\n",
      "Pagerank:  0.00239900662955\n",
      "Spanish (i/ˈspænᵻʃ/,  español (help·info))—also called Castilian[4] (i/kæˈstɪliən/,  castellano (help·info))—is a Romance language that originated in the Castile region of Spain, with hundreds of millions of native speakers around the world. It is usually...\n",
      "\n",
      "https://it.wikipedia.org/wiki/Aiuto:IPA\n",
      "Pagerank:  0.00205708848643\n",
      "Sotto si trova una tabella che espone ai non esperti i simboli dell'Alfabeto fonetico internazionale (abbreviato IPA). Per gli insiemi ridotti dei simboli utilizzati per la lingua italiana e la lingua inglese, si vedano Aiuto:IPA per l'italiano e Aiuto:IP...\n",
      "\n",
      "https://en.wikipedia.org/wiki/Cantar_de_mio_Cid\n",
      "Pagerank:  0.00189738262538\n",
      "El Cantar de mio Cid, literally \"The Song of my Cid\" (or El Poema de mio Cid), also known in English as The Poem of the Cid, is the oldest preserved Castilian epic poem (epopeya).[1] Based on a true story, it tells of the Castilian hero El Cid, and takes ...\n",
      "\n",
      "https://ru.wikipedia.org/wiki/%D0%9D%D0%B5%D0%BC%D0%B5%D1%86%D0%BA%D0%B8%D0%B9_%D1%8F%D0%B7%D1%8B%D0%BA\n",
      "Pagerank:  0.00185135266378\n",
      "Неме́цкий язык (нем. Deutsch (инф.), произносится: [ˈdɔʏ̯tʃ]; deutsche Sprache, произносится: [ˈdɔʏ̯tʃə ˈʃpʀaːχə]) — язык немцев, австрийцев, лихтенштейнцев и большей части швейцарцев, официальный язык Германии, Австрии, Лихтенштейна, один из официальных ...\n",
      "\n"
     ]
    }
   ],
   "source": [
    "pagerank_full = nx.pagerank(graph_full)\n",
    "top10_full = sorted(pagerank_full, key=lambda k: pagerank_full[k], reverse=True)[:10]\n",
    "print_top_info(top10_full, pagerank_full, True)"
   ]
  },
  {
   "cell_type": "markdown",
   "metadata": {},
   "source": [
    "И в этом случае топ документов не сильно поменялся. "
   ]
  },
  {
   "cell_type": "markdown",
   "metadata": {},
   "source": [
    "Как мы видим при разных alpha в топ пробиваются итальянские, росскийские и немецкие статьи.  \n"
   ]
  },
  {
   "cell_type": "code",
   "execution_count": null,
   "metadata": {
    "collapsed": true
   },
   "outputs": [],
   "source": []
  }
 ],
 "metadata": {
  "kernelspec": {
   "display_name": "Python 2",
   "language": "python",
   "name": "python2"
  },
  "language_info": {
   "codemirror_mode": {
    "name": "ipython",
    "version": 2
   },
   "file_extension": ".py",
   "mimetype": "text/x-python",
   "name": "python",
   "nbconvert_exporter": "python",
   "pygments_lexer": "ipython2",
   "version": "2.7.11+"
  }
 },
 "nbformat": 4,
 "nbformat_minor": 2
}
